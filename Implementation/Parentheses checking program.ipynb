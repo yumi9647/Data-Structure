{
 "cells": [
  {
   "cell_type": "code",
   "execution_count": 1,
   "metadata": {},
   "outputs": [],
   "source": [
    "## 괄호 검사 프로그램 ( 리스트로 구현 )\n",
    "\n",
    "class testProgram():\n",
    "    def __init__(self):\n",
    "        self.stack1 = [] #[]\n",
    "        self.stack2 = [] #()\n",
    "        self.stack3 = [] #{}\n",
    "        self.top1 = -1\n",
    "        self.top2 = -1\n",
    "        self.top3 = -1\n",
    "        self.sen = None\n",
    "        self.num = 0\n",
    "        \n",
    "#인풋 받은걸 리스트로 변환    \n",
    "\n",
    "    def userInput(self, sentence):\n",
    "        self.sen = list(sentence)\n",
    "        self.num = len(self.sen)\n",
    "        \n",
    "#인풋받은 리스트 원소 수만큼 각 스택에 더미값 생성\n",
    "\n",
    "    def createDummy(self):\n",
    "        for i in range(self.num):\n",
    "            self.stack1 = self.stack1 + ['x']\n",
    "        for i in range(self.num):\n",
    "            self.stack2 = self.stack2 + ['x']\n",
    "        for i in range(self.num):\n",
    "            self.stack3 = self.stack3 + ['x']\n",
    "#인서트!\n",
    "\n",
    "    def insert(self):\n",
    "        for i in self.sen:\n",
    "            if i == \"[\":\n",
    "                self.top1 = self.top1 + 1\n",
    "                self.stack1[self.top1] = \"[\"\n",
    "            elif i == \"(\":\n",
    "                self.top2 = self.top2 + 1\n",
    "                self.stack2[self.top2] = \"(\"\n",
    "            elif i == \"{\":\n",
    "                self.top3 = self.top3 + 1\n",
    "                self.stack3[self.top3] = \"{\"\n",
    "            else:\n",
    "                pass\n",
    "#딜리트!\n",
    "\n",
    "    def delete(self):\n",
    "        for i in self.sen:\n",
    "            if i == \"]\":\n",
    "                self.stack1[self.top1] = 'x'\n",
    "                self.top1 = self.top1 -1\n",
    "            elif i == \")\":\n",
    "                self.stack2[self.top2] = 'x'\n",
    "                self.top2 = self.top2 -1\n",
    "            elif i == \"}\":\n",
    "                self.stack3[self.top3] = 'x'\n",
    "                self.top3 = self. top3 -1\n",
    "\n",
    "#top의 값으로 확인함 \n",
    "\n",
    "    def final(self):\n",
    "        if (self.top1 == -1) and (self.top2 == -1) and (self.top3 == -1):\n",
    "            return \"correct\"\n",
    "        else:\n",
    "            return \"안맞음\"\n",
    "                \n",
    "                \n",
    "        "
   ]
  },
  {
   "cell_type": "code",
   "execution_count": 2,
   "metadata": {},
   "outputs": [
    {
     "name": "stdout",
     "output_type": "stream",
     "text": [
      "문장 입력하세요: \n",
      "None\n"
     ]
    },
    {
     "data": {
      "text/plain": [
       "'correct'"
      ]
     },
     "execution_count": 2,
     "metadata": {},
     "output_type": "execute_result"
    }
   ],
   "source": [
    "sentence = str(input(print(\"문장 입력하세요: \")))\n",
    "x = testProgram()\n",
    "x.userInput(sentence)\n",
    "x.createDummy()\n",
    "x.insert()\n",
    "x.delete()\n",
    "x.final()\n"
   ]
  },
  {
   "cell_type": "code",
   "execution_count": 3,
   "metadata": {},
   "outputs": [],
   "source": [
    "##괄호 검사 프로그램 (단순연결리스트로 구현: head바로 뒤로 계속 붙이기)\n",
    "\n",
    "class Node():\n",
    "    def __init__(self, data, next = None):\n",
    "        self.data = data\n",
    "        self.next = next\n",
    "\n",
    "class testProgram():\n",
    "    def __init__(self):\n",
    "        self.head1 = Node(None)\n",
    "        self.head2 = Node(None)\n",
    "        self.head3 = Node(None)\n",
    "        self.sen = None\n",
    "    \n",
    "    def userInput(self, sentence):\n",
    "        self.sen = list(sentence)\n",
    "        \n",
    "    def insert(self):\n",
    "        for i in self.sen:\n",
    "            newnode = Node(None)\n",
    "            if i == \"[\":\n",
    "                if self.head1.next == None:\n",
    "                    self.head1.next = newnode\n",
    "                else:\n",
    "                    newnode.next = self.head1.next\n",
    "                    self.head1.next = newnode\n",
    "            elif i == \"(\":\n",
    "                if self.head2.next == None:\n",
    "                    self.head2.next = newnode\n",
    "                else:\n",
    "                    newnode.next = self.head2.next\n",
    "                    self.head2.next = newnode\n",
    "            elif i == \"{\":\n",
    "                if self.head3.next == None:\n",
    "                    self.head3.next = newnode\n",
    "                else:\n",
    "                    newnode.next = self.head3.next\n",
    "                    self.head3.next = newnode\n",
    "            else:\n",
    "                pass\n",
    "\n",
    "    def delete(self):\n",
    "        for i in self.sen:\n",
    "            if i == \"]\":\n",
    "                if self.head1.next == None: ## 짝꿍 \"[\" 가 입력되지 않아서 리스트가 비어있는 경우\n",
    "                    newnode = Node(None) ##더미 노드를 만들어서 final에서 틀린걸 판정하도록 함\n",
    "                    self.head1.next = newnode\n",
    "                else: \n",
    "                    first = self.head1.next\n",
    "                    second = first.next\n",
    "                    first.next = None\n",
    "                    self.head1.next = second\n",
    "            elif i == \")\":\n",
    "                if self.head2.next == None: \n",
    "                    newnode = Node(None) \n",
    "                    self.head2.next = newnode\n",
    "                else: \n",
    "                    first = self.head2.next\n",
    "                    second = first.next\n",
    "                    first.next = None\n",
    "                    self.head2.next = second\n",
    "            elif i == \"}\":\n",
    "                if self.head3.next == None: \n",
    "                    newnode = Node(None) \n",
    "                    self.head3.next = newnode\n",
    "                else: \n",
    "                    first = self.head3.next\n",
    "                    second = first.next\n",
    "                    first.next = None\n",
    "                    self.head3.next = second\n",
    "    def final(self):\n",
    "        if (self.head1.next == None) and (self.head2.next == None) and (self.head3.next == None):\n",
    "            return \"맞아용\"\n",
    "        else:\n",
    "            return \"아니에용\"\n"
   ]
  },
  {
   "cell_type": "code",
   "execution_count": 4,
   "metadata": {},
   "outputs": [
    {
     "name": "stdout",
     "output_type": "stream",
     "text": [
      "문장 입력하세요: \n",
      "None\n"
     ]
    },
    {
     "data": {
      "text/plain": [
       "'맞아용'"
      ]
     },
     "execution_count": 4,
     "metadata": {},
     "output_type": "execute_result"
    }
   ],
   "source": [
    "sentence = str(input(print(\"문장 입력하세요: \")))\n",
    "x = testProgram()\n",
    "x.userInput(sentence)\n",
    "x.insert()\n",
    "x.delete()\n",
    "x.final()"
   ]
  }
 ],
 "metadata": {
  "kernelspec": {
   "display_name": "Python 3",
   "language": "python",
   "name": "python3"
  },
  "language_info": {
   "codemirror_mode": {
    "name": "ipython",
    "version": 3
   },
   "file_extension": ".py",
   "mimetype": "text/x-python",
   "name": "python",
   "nbconvert_exporter": "python",
   "pygments_lexer": "ipython3",
   "version": "3.7.1"
  }
 },
 "nbformat": 4,
 "nbformat_minor": 2
}
