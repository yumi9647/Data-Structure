{
 "cells": [
  {
   "cell_type": "code",
   "execution_count": 1,
   "metadata": {},
   "outputs": [],
   "source": [
    "class Node:\n",
    "    def __init__(self, data, left = None, right = None):\n",
    "        self.data = data\n",
    "        self.left = left\n",
    "        self.right = right       "
   ]
  },
  {
   "cell_type": "code",
   "execution_count": 63,
   "metadata": {},
   "outputs": [],
   "source": [
    "class LinkedTree:\n",
    "    def __init__(self):\n",
    "        self.root = None\n",
    "        self.parent = None\n",
    "        self.current = None\n",
    "    \n",
    "    def insert(self, data):\n",
    "        def _insert(current, data):\n",
    "            if current is None:\n",
    "                current = Node(data)\n",
    "            else:\n",
    "                if current.data > data:\n",
    "                    current.left = _insert(current.left, data)\n",
    "                elif current.data < data:\n",
    "                    current.right = _insert(current.right, data)\n",
    "            return current ## 왜 리턴시켜야되는지?\n",
    "        self.root =  _insert(self.root, data)\n",
    "    \n",
    "    def delete(self, data):\n",
    "        self.root = self._delete(self.root, data)\n",
    "    \n",
    "    def _delete(self, node, data):\n",
    "        if node.data == data:\n",
    "            if node.left is not None and node.right is not None: #####\n",
    "                subtree_left = node.left\n",
    "                subtree_right = node.right\n",
    "                subtree = subtree_right\n",
    "                while subtree.left != None:\n",
    "                    subtree = subtree.left \n",
    "                if self.root.data == data:  ## root 를 지우려는 경우\n",
    "                    self.root = subtree\n",
    "                    self.root.left = subtree_left\n",
    "                    self.root.right = subtree_right  \n",
    "                    node = self.root\n",
    "                elif self.parent.left == node:\n",
    "                    self.parent.left = subtree\n",
    "                    self.parent.left.left = subtree_left\n",
    "                    self.parent.left.right = subtree_right\n",
    "                    node = self.parent.left \n",
    "                elif self.parent.right == node:\n",
    "                    self.parent.right = subtree\n",
    "                    self.parent.right.left = subtree_left\n",
    "                    self.parent.right.right = subtree_right\n",
    "                    node = self.parent.right \n",
    "                subtree = None\n",
    "            \n",
    "            elif node.right is not None and node.left is None:\n",
    "                if self.root.data == data: ## root 를 지우려는 경우\n",
    "                    self.root = node.right\n",
    "                    node = self.root\n",
    "                elif self.parent.left == node:\n",
    "                    self.parent.left = node.right\n",
    "                    node = self.parent.left\n",
    "                elif self.parent.right == node:\n",
    "                    self.parent.right = node.right\n",
    "                    node = self.parent.right\n",
    "        \n",
    "            elif node.left is not None and node.right is None:\n",
    "                if self.root.data == data: ## root를 지우려는 경우\n",
    "                    self.root = node.left\n",
    "                    node = self.root\n",
    "                elif self.parent.left == node:\n",
    "                    self.parent.left = node.left\n",
    "                    node = self.parent.left\n",
    "                elif self.parent.right == node:\n",
    "                    self.parent.right == node.left\n",
    "                    node = self.parent.right\n",
    "            else:\n",
    "                node = None\n",
    "        elif node.data > data:\n",
    "            self.parent = node\n",
    "            node.left = self._delete(node.left, data)\n",
    "        elif node.data < data:\n",
    "            self.parent = node\n",
    "            node.right = self._delete(node.right, data)\n",
    "            \n",
    "        return node\n",
    "     \n",
    "    def PreorderTravel(self):\n",
    "        def _PreorderTravel(root):\n",
    "            if root == None:\n",
    "                pass\n",
    "            else:\n",
    "                print(root.data)\n",
    "                _PreorderTravel(root.left)\n",
    "                _PreorderTravel(root.right)\n",
    "        _PreorderTrave(self.root)\n",
    "    \n",
    "    def InorderTravel(self):\n",
    "        def _InorderTravel(root):\n",
    "            if root == None:\n",
    "                pass\n",
    "            else:\n",
    "                _InorderTravel(root.left)\n",
    "                print(root.data)\n",
    "                _InorderTravel(root.right)\n",
    "        _InorderTravel(self.root)\n",
    "        \n",
    "    def PostorderTravel(self):\n",
    "        def _PostorderTravel(root):\n",
    "            if root == None:\n",
    "                pass\n",
    "            else:\n",
    "                _PostorderTravel(root.left)\n",
    "                _postorderTravel(root.right)\n",
    "                print(root.data)\n",
    "        _PostorderTravel(self.root)\n",
    "                        "
   ]
  },
  {
   "cell_type": "code",
   "execution_count": 64,
   "metadata": {},
   "outputs": [],
   "source": [
    "a = LinkedTree()"
   ]
  },
  {
   "cell_type": "code",
   "execution_count": 65,
   "metadata": {},
   "outputs": [],
   "source": [
    "a.insert(5)"
   ]
  },
  {
   "cell_type": "code",
   "execution_count": 66,
   "metadata": {},
   "outputs": [],
   "source": [
    "a.insert(2)"
   ]
  },
  {
   "cell_type": "code",
   "execution_count": 67,
   "metadata": {},
   "outputs": [],
   "source": [
    "a.insert(10)"
   ]
  },
  {
   "cell_type": "code",
   "execution_count": 66,
   "metadata": {},
   "outputs": [],
   "source": [
    "a.insert(11)"
   ]
  },
  {
   "cell_type": "code",
   "execution_count": 19,
   "metadata": {},
   "outputs": [],
   "source": [
    "a.insert(18)"
   ]
  },
  {
   "cell_type": "code",
   "execution_count": 18,
   "metadata": {},
   "outputs": [],
   "source": [
    "a.insert(16)"
   ]
  },
  {
   "cell_type": "code",
   "execution_count": 69,
   "metadata": {},
   "outputs": [],
   "source": [
    "a.insert(19)"
   ]
  },
  {
   "cell_type": "code",
   "execution_count": 70,
   "metadata": {},
   "outputs": [
    {
     "data": {
      "text/plain": [
       "10"
      ]
     },
     "execution_count": 70,
     "metadata": {},
     "output_type": "execute_result"
    }
   ],
   "source": [
    "a.root.data"
   ]
  },
  {
   "cell_type": "code",
   "execution_count": 56,
   "metadata": {},
   "outputs": [
    {
     "data": {
      "text/plain": [
       "10"
      ]
     },
     "execution_count": 56,
     "metadata": {},
     "output_type": "execute_result"
    }
   ],
   "source": [
    "a.root.left.data"
   ]
  },
  {
   "cell_type": "code",
   "execution_count": 41,
   "metadata": {},
   "outputs": [
    {
     "data": {
      "text/plain": [
       "10"
      ]
     },
     "execution_count": 41,
     "metadata": {},
     "output_type": "execute_result"
    }
   ],
   "source": [
    "a.root.right.left.data"
   ]
  },
  {
   "cell_type": "code",
   "execution_count": 69,
   "metadata": {},
   "outputs": [],
   "source": [
    "a.delete(5)"
   ]
  },
  {
   "cell_type": "code",
   "execution_count": 78,
   "metadata": {},
   "outputs": [
    {
     "data": {
      "text/plain": [
       "19"
      ]
     },
     "execution_count": 78,
     "metadata": {},
     "output_type": "execute_result"
    }
   ],
   "source": [
    "a.root.right.right.right.data"
   ]
  },
  {
   "cell_type": "code",
   "execution_count": null,
   "metadata": {},
   "outputs": [],
   "source": []
  },
  {
   "cell_type": "code",
   "execution_count": 14,
   "metadata": {},
   "outputs": [
    {
     "data": {
      "text/plain": [
       "15"
      ]
     },
     "execution_count": 14,
     "metadata": {},
     "output_type": "execute_result"
    }
   ],
   "source": [
    "a.current.data"
   ]
  },
  {
   "cell_type": "code",
   "execution_count": 14,
   "metadata": {},
   "outputs": [
    {
     "data": {
      "text/plain": [
       "5"
      ]
     },
     "execution_count": 14,
     "metadata": {},
     "output_type": "execute_result"
    }
   ],
   "source": [
    "a.parent.data"
   ]
  },
  {
   "cell_type": "code",
   "execution_count": 199,
   "metadata": {},
   "outputs": [
    {
     "ename": "AttributeError",
     "evalue": "'NoneType' object has no attribute 'data'",
     "output_type": "error",
     "traceback": [
      "\u001b[1;31m---------------------------------------------------------------------------\u001b[0m",
      "\u001b[1;31mAttributeError\u001b[0m                            Traceback (most recent call last)",
      "\u001b[1;32m<ipython-input-199-1122b7f19405>\u001b[0m in \u001b[0;36m<module>\u001b[1;34m()\u001b[0m\n\u001b[1;32m----> 1\u001b[1;33m \u001b[0ma\u001b[0m\u001b[1;33m.\u001b[0m\u001b[0mparent\u001b[0m\u001b[1;33m.\u001b[0m\u001b[0mright\u001b[0m\u001b[1;33m.\u001b[0m\u001b[0mdata\u001b[0m\u001b[1;33m\u001b[0m\u001b[0m\n\u001b[0m",
      "\u001b[1;31mAttributeError\u001b[0m: 'NoneType' object has no attribute 'data'"
     ]
    }
   ],
   "source": [
    "a.parent.right.data"
   ]
  },
  {
   "cell_type": "code",
   "execution_count": null,
   "metadata": {},
   "outputs": [],
   "source": [
    "    def __delete(self, current, data):\n",
    "        if current.data == data:\n",
    "            self.current = current\n",
    "        else:\n",
    "            if current.data > data:\n",
    "                self.parent = current\n",
    "                current.left = self._delete(current.left, data)\n",
    "            elif current.data < data:\n",
    "                self.parent = current\n",
    "                current.right = self._delete(current.right, data)\n",
    "        #return self.parent, current\n",
    "    \n",
    "    def _delete(self, data):\n",
    "        self.__delete(self.root, data)\n",
    "        if self.current.left is not None and self.current.right is not None:\n",
    "            subtree_left = self.current.left\n",
    "            subtree_right = self.current.right\n",
    "            subtree = subtree_right\n",
    "            while subtree.left != None:\n",
    "                subtree = subtree.left #이제 subtree 는 16\n",
    "            if self.parent.left == self.current:\n",
    "                self.parent.left = self.current\n",
    "                self.parent.left.left = subtree_left\n",
    "                self.parent.left.right = subtree_right\n",
    "                node = self.parent.left #######\n",
    "            elif self.parent.right == self.current:\n",
    "                self.parent.right = subtree\n",
    "                self.parent.right.left = subtree_left\n",
    "                self.parent.right.right = subtree_right\n",
    "                node = self.parent.right #########\n",
    "            subtree = None\n",
    "        \n",
    "        elif self.current.right is not None and self.current.left is None:\n",
    "            if self.parent.left == self.current:\n",
    "                self.parent.left = self.current.right\n",
    "            elif self.parent.right == self.current:\n",
    "                self.parent.right = self.current.right\n",
    "        \n",
    "        elif self.current.left is not None and self.current.right is None:\n",
    "            if self.parent.left == self.current:\n",
    "                self.parent.left = self.current.left\n",
    "            elif self.parent.right == self.current:\n",
    "                self.parent.right == self.current.left\n",
    "        else:\n",
    "            self.current = None"
   ]
  }
 ],
 "metadata": {
  "kernelspec": {
   "display_name": "Python 3",
   "language": "python",
   "name": "python3"
  },
  "language_info": {
   "codemirror_mode": {
    "name": "ipython",
    "version": 3
   },
   "file_extension": ".py",
   "mimetype": "text/x-python",
   "name": "python",
   "nbconvert_exporter": "python",
   "pygments_lexer": "ipython3",
   "version": "3.6.6"
  }
 },
 "nbformat": 4,
 "nbformat_minor": 2
}
