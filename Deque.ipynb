{
 "cells": [
  {
   "cell_type": "code",
   "execution_count": 1,
   "metadata": {},
   "outputs": [],
   "source": [
    "class Node:\n",
    "    def __init__(self, data, left = None, right = None):\n",
    "        self.data = data\n",
    "        self.left = left\n",
    "        self.right = right"
   ]
  },
  {
   "cell_type": "code",
   "execution_count": 2,
   "metadata": {},
   "outputs": [],
   "source": [
    "class Deque:\n",
    "    def __init__(self):\n",
    "        self.head = Node(None)\n",
    "        self.front = Node(None)\n",
    "        self.rear = Node(None)\n",
    "        \n",
    "    \n",
    "    def isEmpty(self):\n",
    "        if self.head.right == None:\n",
    "            return True\n",
    "        else:\n",
    "            return False\n",
    "    \n",
    "    def insertFront(self, data):\n",
    "        newnode = Node(data)\n",
    "        if self.isEmpty() == True:\n",
    "            self.head.right = newnode\n",
    "            newnode.left = self.head\n",
    "            self.front = newnode\n",
    "            self.rear = newnode\n",
    "        else:\n",
    "            temp = self.head.right\n",
    "            newnode.right = temp\n",
    "            temp.left = newnode\n",
    "            self.head.right = newnode\n",
    "            newnode.left = self.head\n",
    "            self.front = newnode\n",
    "    \n",
    "    def deleteFront(self):\n",
    "        if self.isEmpty() == True:\n",
    "            pass\n",
    "        else:\n",
    "            if self.head.right.right != None:\n",
    "                temp = self.head.right\n",
    "                self.head.right = temp.right\n",
    "                temp.right.left = self.head\n",
    "                temp.right = None\n",
    "                temp.left = None\n",
    "                self.front = self.head.right\n",
    "            else:\n",
    "                temp = self.head.right\n",
    "                self.head.right = None\n",
    "                temp.left = None\n",
    "    \n",
    "    def insertRear(self, data):\n",
    "        newnode = Node(data)\n",
    "        if self.isEmpty() == True:\n",
    "            self.head.right = newnode\n",
    "            newnode.left = self.head\n",
    "            self.front = newnode\n",
    "            self.rear = newnode\n",
    "        else:\n",
    "            self.rear.right = newnode\n",
    "            newnode.left = self.rear\n",
    "            self.rear = newnode\n",
    "    def deleteRear(self):\n",
    "        if self.isEmpty() == True:\n",
    "            pass\n",
    "        else:\n",
    "            temp = self.rear.left\n",
    "            temp.right = None\n",
    "            self.rear.left = None\n",
    "            self.rear = temp\n",
    "    def Print(self):\n",
    "        if self.head.right == None:\n",
    "            pass\n",
    "        else:\n",
    "            current = self.head.right\n",
    "            while current != None:\n",
    "                print(current.data)\n",
    "                current = current.right\n",
    "            \n",
    "        \n",
    "        \n",
    "    \n",
    "    "
   ]
  },
  {
   "cell_type": "code",
   "execution_count": null,
   "metadata": {},
   "outputs": [
    {
     "name": "stdout",
     "output_type": "stream",
     "text": [
      "앞삽입/뒤삽입/앞삭제/뒤삭제 중 택1 입력하시오. 그만두고 싶으면 그만 입력: \n"
     ]
    }
   ],
   "source": [
    "a = Deque()\n",
    "flag = True\n",
    "while flag == True:\n",
    "    x = str(input(print(\"앞삽입/뒤삽입/앞삭제/뒤삭제 중 택1 입력하시오. 그만두고 싶으면 그만 입력: \")))\n",
    "    if x == \"앞삽입\":\n",
    "        data = input(print(\"삽입할 숫자: \"))\n",
    "        a.insertFront(data)\n",
    "        a.Print()\n",
    "    elif x == \"뒤삽입\":\n",
    "        data = input(print(\"삽입할 숫자: \"))\n",
    "        a.insertRear(data)\n",
    "        a.Print()\n",
    "    elif x == \"앞삭제\":\n",
    "        a.deleteFront()\n",
    "        a.Print()\n",
    "    elif x == \"뒤삭제\":\n",
    "        a.deleteRear()\n",
    "        a.Print()\n",
    "    elif x == \"그만\":\n",
    "        flag = False"
   ]
  }
 ],
 "metadata": {
  "kernelspec": {
   "display_name": "Python 3",
   "language": "python",
   "name": "python3"
  },
  "language_info": {
   "codemirror_mode": {
    "name": "ipython",
    "version": 3
   },
   "file_extension": ".py",
   "mimetype": "text/x-python",
   "name": "python",
   "nbconvert_exporter": "python",
   "pygments_lexer": "ipython3",
   "version": "3.7.1"
  }
 },
 "nbformat": 4,
 "nbformat_minor": 2
}
