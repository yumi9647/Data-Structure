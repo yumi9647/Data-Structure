{
 "cells": [
  {
   "cell_type": "code",
   "execution_count": 1,
   "metadata": {},
   "outputs": [],
   "source": [
    "# 인덱스를 구하라\n",
    "\n",
    "list = [1, 3, 7, 11, 13, 15]\n"
   ]
  },
  {
   "cell_type": "code",
   "execution_count": 2,
   "metadata": {},
   "outputs": [],
   "source": [
    "def Insert(a):\n",
    "    global list\n",
    "    g = 0\n",
    "    for i in list:\n",
    "        g = g + 1\n",
    "        if i > a:\n",
    "            l1 = list[:g-1]\n",
    "            l2 = list[g-1:]\n",
    "            result = l1 + [a] + l2\n",
    "            break\n",
    "        elif i < a:\n",
    "            l1 = list\n",
    "            l2 = [a]\n",
    "            result = l1 + l2\n",
    "    list = result\n",
    "    return(result)"
   ]
  },
  {
   "cell_type": "code",
   "execution_count": 3,
   "metadata": {},
   "outputs": [],
   "source": [
    "def Delete(a):\n",
    "    global list\n",
    "    g = 0\n",
    "    for i in list:\n",
    "        g = g + 1\n",
    "        if i == a:\n",
    "            break\n",
    "    l1 = list[:g-1]\n",
    "    l2 = list[g:]\n",
    "    result = l1 + l2\n",
    "    list = result\n",
    "    return(result)"
   ]
  },
  {
   "cell_type": "code",
   "execution_count": 4,
   "metadata": {},
   "outputs": [
    {
     "name": "stdout",
     "output_type": "stream",
     "text": [
      "list = [1, 3, 7, 11, 13, 15]\n",
      "insert: i \n",
      " delete: d \n",
      " quit: q \n",
      "i\n",
      "number: 4\n",
      "[1, 3, 4, 7, 11, 13, 15]\n",
      "insert: i \n",
      " delete: d \n",
      " quit: q \n",
      "i\n",
      "number: 0\n",
      "[0, 1, 3, 4, 7, 11, 13, 15]\n",
      "insert: i \n",
      " delete: d \n",
      " quit: q \n",
      "i\n",
      "number: 12\n",
      "[0, 1, 3, 4, 7, 11, 12, 13, 15]\n",
      "insert: i \n",
      " delete: d \n",
      " quit: q \n",
      "i\n",
      "number: 20\n",
      "[0, 1, 3, 4, 7, 11, 12, 13, 15, 20]\n",
      "insert: i \n",
      " delete: d \n",
      " quit: q \n",
      "d\n",
      "number: 1\n",
      "[0, 3, 4, 7, 11, 12, 13, 15, 20]\n",
      "insert: i \n",
      " delete: d \n",
      " quit: q \n",
      "d\n",
      "number: 15\n",
      "[0, 3, 4, 7, 11, 12, 13, 20]\n",
      "insert: i \n",
      " delete: d \n",
      " quit: q \n",
      "d\n",
      "number: 4\n",
      "[0, 3, 7, 11, 12, 13, 20]\n",
      "insert: i \n",
      " delete: d \n",
      " quit: q \n",
      "d\n",
      "number: 20\n",
      "[0, 3, 7, 11, 12, 13]\n",
      "insert: i \n",
      " delete: d \n",
      " quit: q \n",
      "d\n",
      "number: 3\n",
      "[0, 7, 11, 12, 13]\n",
      "insert: i \n",
      " delete: d \n",
      " quit: q \n",
      "d\n",
      "number: 0\n",
      "[7, 11, 12, 13]\n",
      "insert: i \n",
      " delete: d \n",
      " quit: q \n",
      "q\n",
      "Finish\n"
     ]
    }
   ],
   "source": [
    "print(\"list = [1, 3, 7, 11, 13, 15]\")\n",
    "flag = True\n",
    "while flag == True:\n",
    "    z = input('insert: i \\n delete: d \\n quit: q \\n')\n",
    "    if z == 'q':\n",
    "        flag = False\n",
    "        print('Finish')\n",
    "    elif z == 'i':\n",
    "        c = int(input('number: '))\n",
    "        print(Insert(c))\n",
    "    else:\n",
    "        c = int(input('number: '))\n",
    "        print(Delete(c))"
   ]
  },
  {
   "cell_type": "code",
   "execution_count": null,
   "metadata": {},
   "outputs": [],
   "source": []
  }
 ],
 "metadata": {
  "kernelspec": {
   "display_name": "Python 3",
   "language": "python",
   "name": "python3"
  },
  "language_info": {
   "codemirror_mode": {
    "name": "ipython",
    "version": 3
   },
   "file_extension": ".py",
   "mimetype": "text/x-python",
   "name": "python",
   "nbconvert_exporter": "python",
   "pygments_lexer": "ipython3",
   "version": "3.6.5"
  }
 },
 "nbformat": 4,
 "nbformat_minor": 2
}
