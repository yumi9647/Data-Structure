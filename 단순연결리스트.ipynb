{
 "cells": [
  {
   "cell_type": "code",
   "execution_count": 3,
   "metadata": {},
   "outputs": [],
   "source": [
    "class Node:\n",
    "    def __init__(self, data, next = None):\n",
    "        self.data = data\n",
    "        self.next = next"
   ]
  },
  {
   "cell_type": "code",
   "execution_count": 4,
   "metadata": {},
   "outputs": [],
   "source": [
    "class SLL:\n",
    "    def __init__(self):\n",
    "        self.head = Node(None)\n",
    "        self.numData = 0\n",
    "        self.previous = Node(None)\n",
    "        self.current = Node(None)' '\n",
    "        self.tail = None\n",
    "    \n",
    "    def insertSearch(self, a):\n",
    "        newnode = Node(a) # 노드 생성\n",
    "        self.previous = self.head\n",
    "        self.current = self.head.next\n",
    "        if self.current == None:\n",
    "            pass\n",
    "        else:\n",
    "            while self.current != None:\n",
    "                if newnode.data > self.current.data:\n",
    "                    self.previous = self.current\n",
    "                    self.current = self.current.next\n",
    "                else:\n",
    "                    break\n",
    "             \n",
    "    def insert(self, a):\n",
    "        newnode = Node(a) # 노드 생성\n",
    "        self.insertSearch(a)\n",
    "        # 리스트가 비었을 경우 & 리스트 맨 끝에 삽입될 경우\n",
    "        if self.current == None:\n",
    "            self.previous.next = newnode\n",
    "            self.numData += 1           # 숫자 1 증가\n",
    "        # 같은 숫자가 있을 경우\n",
    "        elif self.current.data == newnode.data:\n",
    "            pass\n",
    "        # 중간에 삽입될 경우\n",
    "        else:\n",
    "            self.previous.next = newnode\n",
    "            newnode.next = self.current\n",
    "            self.numData += 1           # 숫자 1 증가\n",
    "            \n",
    "    def Print(self):\n",
    "        current = self.head\n",
    "        if current.next == None:\n",
    "            print('empty list')\n",
    "        else:\n",
    "            while current.next != None:\n",
    "                current = current.next\n",
    "                print(current.data)\n",
    "                \n",
    "    def Tail(self):\n",
    "        current = self.head\n",
    "        if current.next == None:\n",
    "            print(\"empty list\")\n",
    "        else:\n",
    "            while current.next != None:\n",
    "                current = current.next\n",
    "            self.tail = current\n",
    "                \n",
    "    def searchDelete(self, a):\n",
    "        deleteNode = Node(a)   # delete 하고 싶은 노드 생성\n",
    "        self.current = self.head.next\n",
    "        self.previous = self.head\n",
    "        if self.current != None:\n",
    "            while self.current.data != deleteNode.data: \n",
    "                self.previous = self.current\n",
    "                self.current = self.current.next\n",
    "                if self.current == None:  # self. current 가 None에 도달하면 루프 break\n",
    "                    break                 # 조건문 없으면 while문에서 None인 current의 data 비교 불가능해져서 에러뜸\n",
    "\n",
    "    def delete(self, a):\n",
    "        self.searchDelete(a)\n",
    "        # 리스트가 비었을 경우, 또는 삭제하려는 노드가 없는 경우\n",
    "        if self.current == None:\n",
    "            pass\n",
    "        # 그 외\n",
    "        else:\n",
    "            self.previous.next = self.current.next\n",
    "            self.current.next = None\n",
    "            self.numData -= 1             #숫자 1 감소\n",
    "\n",
    "    def isCount(self):\n",
    "        print(self.numData)\n",
    "        \n",
    "    "
   ]
  },
  {
   "cell_type": "code",
   "execution_count": 5,
   "metadata": {
    "scrolled": false
   },
   "outputs": [
    {
     "name": "stdout",
     "output_type": "stream",
     "text": [
      "입력은 i를, 삭제는 d를, 프로그램 종료는 q를 입력하세요: \n",
      "Nonei\n",
      "입력 숫자: \n",
      "None5\n",
      "5\n",
      "입력은 i를, 삭제는 d를, 프로그램 종료는 q를 입력하세요: \n",
      "Noneq\n"
     ]
    }
   ],
   "source": [
    "#프로그램\n",
    "flag = True\n",
    "x = SLL()\n",
    "while flag == True:\n",
    "    sign = input(print(\"입력은 i를, 삭제는 d를, 프로그램 종료는 q를 입력하세요: \"))\n",
    "    if sign == 'i':\n",
    "        a = input(print(\"입력 숫자: \"))\n",
    "        x.insert(a)\n",
    "        x.Print()\n",
    "    elif sign == 'd':\n",
    "        b = input(print(\"삭제 숫자: \"))\n",
    "        x.delete(b)\n",
    "        x.Print()\n",
    "    else:\n",
    "        flag = False\n"
   ]
  },
  {
   "cell_type": "code",
   "execution_count": 27,
   "metadata": {},
   "outputs": [
    {
     "name": "stdout",
     "output_type": "stream",
     "text": [
      "3\n",
      "6\n"
     ]
    }
   ],
   "source": [
    "x.Print()"
   ]
  },
  {
   "cell_type": "code",
   "execution_count": 32,
   "metadata": {},
   "outputs": [
    {
     "name": "stdout",
     "output_type": "stream",
     "text": [
      "6\n"
     ]
    }
   ],
   "source": [
    "x.Tail()"
   ]
  },
  {
   "cell_type": "code",
   "execution_count": 31,
   "metadata": {},
   "outputs": [
    {
     "ename": "TypeError",
     "evalue": "'NoneType' object is not callable",
     "output_type": "error",
     "traceback": [
      "\u001b[1;31m---------------------------------------------------------------------------\u001b[0m",
      "\u001b[1;31mTypeError\u001b[0m                                 Traceback (most recent call last)",
      "\u001b[1;32m<ipython-input-31-01a6b4524dc6>\u001b[0m in \u001b[0;36m<module>\u001b[1;34m()\u001b[0m\n\u001b[1;32m----> 1\u001b[1;33m \u001b[0mx\u001b[0m\u001b[1;33m.\u001b[0m\u001b[0mtail\u001b[0m\u001b[1;33m(\u001b[0m\u001b[1;33m)\u001b[0m\u001b[1;33m\u001b[0m\u001b[0m\n\u001b[0m",
      "\u001b[1;31mTypeError\u001b[0m: 'NoneType' object is not callable"
     ]
    }
   ],
   "source": [
    "x.tail()"
   ]
  },
  {
   "cell_type": "code",
   "execution_count": null,
   "metadata": {},
   "outputs": [],
   "source": []
  }
 ],
 "metadata": {
  "kernelspec": {
   "display_name": "Python 3",
   "language": "python",
   "name": "python3"
  },
  "language_info": {
   "codemirror_mode": {
    "name": "ipython",
    "version": 3
   },
   "file_extension": ".py",
   "mimetype": "text/x-python",
   "name": "python",
   "nbconvert_exporter": "python",
   "pygments_lexer": "ipython3",
   "version": "3.6.6"
  }
 },
 "nbformat": 4,
 "nbformat_minor": 2
}
