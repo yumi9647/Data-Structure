{
 "cells": [
  {
   "cell_type": "code",
   "execution_count": 1,
   "metadata": {},
   "outputs": [],
   "source": [
    "class Node: #이중연결인지 확인하고 나서 변경 \n",
    "    def __init__(self, data, next = None):\n",
    "        self.data = data\n",
    "        self.next = next"
   ]
  },
  {
   "cell_type": "code",
   "execution_count": 2,
   "metadata": {},
   "outputs": [],
   "source": [
    "class CQueue:\n",
    "    def __init__(self):\n",
    "        self.head = Node(None)\n",
    "        self.rear = None\n",
    "        self.front = None\n",
    "        \n",
    "    def isEmpty(self):\n",
    "        if self.head.next == None:\n",
    "            return True\n",
    "        else:\n",
    "            return False\n",
    "    \n",
    "    def enQueue(self, data):\n",
    "        newnode = Node(data)\n",
    "        if self.isEmpty() == True:\n",
    "            self.head.next = newnode\n",
    "            self.rear = newnode\n",
    "            self.front = newnode\n",
    "        else:\n",
    "            self.rear.next = newnode\n",
    "            self.rear = newnode\n",
    "    \n",
    "    def deQueue(self):\n",
    "        if self.isEmpty() == True:\n",
    "            pass\n",
    "        elif self.front == self.rear:\n",
    "            self.head.next = None\n",
    "            self.rear = None\n",
    "            self.front = None\n",
    "        else:\n",
    "            self.head.next = self.front.next\n",
    "            self.front.next = None\n",
    "            self.front = self.head.next\n",
    "            \n",
    "    def Print(self):\n",
    "        if self.head.next == None:\n",
    "            pass\n",
    "        else:\n",
    "            current = self.head.next\n",
    "            while current != None:\n",
    "                print(current.data)\n",
    "                current = current.next\n",
    "        "
   ]
  }
 ],
 "metadata": {
  "kernelspec": {
   "display_name": "Python 3",
   "language": "python",
   "name": "python3"
  },
  "language_info": {
   "codemirror_mode": {
    "name": "ipython",
    "version": 3
   },
   "file_extension": ".py",
   "mimetype": "text/x-python",
   "name": "python",
   "nbconvert_exporter": "python",
   "pygments_lexer": "ipython3",
   "version": "3.7.1"
  }
 },
 "nbformat": 4,
 "nbformat_minor": 2
}
