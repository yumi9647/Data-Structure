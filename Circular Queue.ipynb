{
 "cells": [
  {
   "cell_type": "code",
   "execution_count": 1,
   "metadata": {},
   "outputs": [],
   "source": [
    "class cQueue:\n",
    "    def __init__(self, size):\n",
    "        self.size = size\n",
    "        self.list = ['x']*self.size\n",
    "        self.front = 0\n",
    "        self.rear = 0\n",
    "\n",
    "    def isEmpty(self):\n",
    "        if self.front == self.rear:\n",
    "            return True\n",
    "        else:\n",
    "            return False\n",
    "    \n",
    "    def isFull(self):\n",
    "        if ((self.rear+1) % self.size) == self.front:\n",
    "            return True\n",
    "        else:\n",
    "            return False\n",
    "        \n",
    "    def enQueue(self, new):\n",
    "        if self.isFull() == True:\n",
    "            pass\n",
    "        else:\n",
    "            self.rear = (self.rear + 1) % self.size # 한 칸 옮기기\n",
    "            self.list[self.rear] = new\n",
    "    \n",
    "    def deQueue(self):\n",
    "        if self.isEmpty() == True:\n",
    "            pass\n",
    "        else:\n",
    "            self.front = (self.front+1) % self.size\n",
    "            self.list[self.front] = \"x\"\n",
    "        "
   ]
  }
 ],
 "metadata": {
  "kernelspec": {
   "display_name": "Python 3",
   "language": "python",
   "name": "python3"
  },
  "language_info": {
   "codemirror_mode": {
    "name": "ipython",
    "version": 3
   },
   "file_extension": ".py",
   "mimetype": "text/x-python",
   "name": "python",
   "nbconvert_exporter": "python",
   "pygments_lexer": "ipython3",
   "version": "3.7.1"
  }
 },
 "nbformat": 4,
 "nbformat_minor": 2
}
