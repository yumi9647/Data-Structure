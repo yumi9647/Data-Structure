{
 "cells": [
  {
   "cell_type": "code",
   "execution_count": 1,
   "metadata": {},
   "outputs": [],
   "source": [
    "## 단순한 스택 만들기\n",
    "top = -1\n",
    "stack = []\n",
    "for i in range(10):\n",
    "    stack.append(\"x\")"
   ]
  },
  {
   "cell_type": "code",
   "execution_count": 2,
   "metadata": {},
   "outputs": [],
   "source": [
    "def insert(value):\n",
    "    global top\n",
    "    global stack\n",
    "    top = top + 1\n",
    "    stack[top] = value\n",
    "    return stack\n",
    "def delete():\n",
    "    global top\n",
    "    global stack\n",
    "    temp = top\n",
    "    stack[temp] = 'x'\n",
    "    top = top - 1\n",
    "    return stack\n",
    "def peek():\n",
    "    global top\n",
    "    global stack\n",
    "    if top == -1:\n",
    "        return \"empty\"\n",
    "    else:\n",
    "        return stack[top]"
   ]
  }
 ],
 "metadata": {
  "kernelspec": {
   "display_name": "Python 3",
   "language": "python",
   "name": "python3"
  },
  "language_info": {
   "codemirror_mode": {
    "name": "ipython",
    "version": 3
   },
   "file_extension": ".py",
   "mimetype": "text/x-python",
   "name": "python",
   "nbconvert_exporter": "python",
   "pygments_lexer": "ipython3",
   "version": "3.7.1"
  }
 },
 "nbformat": 4,
 "nbformat_minor": 2
}
